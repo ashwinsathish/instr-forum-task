{
  "nbformat": 4,
  "nbformat_minor": 0,
  "metadata": {
    "colab": {
      "name": "Fashion_MNIST classification.ipynb",
      "provenance": [],
      "authorship_tag": "ABX9TyMR4uWS6tee6kBnhldA5MdQ",
      "include_colab_link": true
    },
    "kernelspec": {
      "name": "python3",
      "display_name": "Python 3"
    },
    "language_info": {
      "name": "python"
    },
    "accelerator": "GPU"
  },
  "cells": [
    {
      "cell_type": "markdown",
      "metadata": {
        "id": "view-in-github",
        "colab_type": "text"
      },
      "source": [
        "<a href=\"https://colab.research.google.com/github/ashwinsathish/instr-forum-task/blob/main/Ashwin_FashionMNIST_classification.ipynb\" target=\"_parent\"><img src=\"https://colab.research.google.com/assets/colab-badge.svg\" alt=\"Open In Colab\"/></a>"
      ]
    },
    {
      "cell_type": "markdown",
      "source": [
        "# Fashion_MNIST Dataset Classification"
      ],
      "metadata": {
        "id": "iWJJrIRaX7xk"
      }
    },
    {
      "cell_type": "markdown",
      "source": [
        "## Loading the dataset"
      ],
      "metadata": {
        "id": "K0vvk89XXK_s"
      }
    },
    {
      "cell_type": "code",
      "execution_count": 2,
      "metadata": {
        "id": "lsyps3DkWrKn"
      },
      "outputs": [],
      "source": [
        "import tensorflow as tf\n",
        "from tensorflow import keras\n",
        "from tensorflow.keras import layers, models\n",
        "from tensorflow.keras.models import load_model\n",
        "import os"
      ]
    },
    {
      "cell_type": "code",
      "source": [
        "print(tf.keras.__version__)"
      ],
      "metadata": {
        "colab": {
          "base_uri": "https://localhost:8080/"
        },
        "id": "lUUxvDUnWtUr",
        "outputId": "bb9571d4-086c-4fa7-e2bd-b25253a0f493"
      },
      "execution_count": 3,
      "outputs": [
        {
          "output_type": "stream",
          "name": "stdout",
          "text": [
            "2.8.0\n"
          ]
        }
      ]
    },
    {
      "cell_type": "code",
      "source": [
        "import numpy as np\n",
        "import matplotlib.pyplot as plt"
      ],
      "metadata": {
        "id": "p-6eCoQYWtcp"
      },
      "execution_count": 4,
      "outputs": []
    },
    {
      "cell_type": "code",
      "source": [
        "fashion_mnist = keras.datasets.fashion_mnist\n",
        "\n",
        "(trainx, trainy), (testx, testy) = fashion_mnist.load_data()"
      ],
      "metadata": {
        "colab": {
          "base_uri": "https://localhost:8080/"
        },
        "id": "vJ_owysUWte8",
        "outputId": "254a1abf-3e6e-4575-f34a-f13eee4fbbad"
      },
      "execution_count": 5,
      "outputs": [
        {
          "output_type": "stream",
          "name": "stdout",
          "text": [
            "Downloading data from https://storage.googleapis.com/tensorflow/tf-keras-datasets/train-labels-idx1-ubyte.gz\n",
            "32768/29515 [=================================] - 0s 0us/step\n",
            "40960/29515 [=========================================] - 0s 0us/step\n",
            "Downloading data from https://storage.googleapis.com/tensorflow/tf-keras-datasets/train-images-idx3-ubyte.gz\n",
            "26427392/26421880 [==============================] - 0s 0us/step\n",
            "26435584/26421880 [==============================] - 0s 0us/step\n",
            "Downloading data from https://storage.googleapis.com/tensorflow/tf-keras-datasets/t10k-labels-idx1-ubyte.gz\n",
            "16384/5148 [===============================================================================================] - 0s 0us/step\n",
            "Downloading data from https://storage.googleapis.com/tensorflow/tf-keras-datasets/t10k-images-idx3-ubyte.gz\n",
            "4423680/4422102 [==============================] - 0s 0us/step\n",
            "4431872/4422102 [==============================] - 0s 0us/step\n"
          ]
        }
      ]
    },
    {
      "cell_type": "code",
      "source": [
        "class_names = ['T-shirt/top', \n",
        "               'Trouser',\n",
        "               'Pullover', \n",
        "               'Dress', \n",
        "               'Coat', \n",
        "               'Sandal', \n",
        "               'Shirt', \n",
        "               'Sneaker', \n",
        "               'Bag', \n",
        "               'Ankle boot']"
      ],
      "metadata": {
        "id": "KX-taY39WthV"
      },
      "execution_count": 6,
      "outputs": []
    },
    {
      "cell_type": "markdown",
      "source": [
        "## Exploring the dataset "
      ],
      "metadata": {
        "id": "3fq-u5ILXSKc"
      }
    },
    {
      "cell_type": "code",
      "source": [
        "trainx.shape"
      ],
      "metadata": {
        "colab": {
          "base_uri": "https://localhost:8080/"
        },
        "id": "7iysAvmJWtjr",
        "outputId": "00035d22-6b94-4314-8976-6493c30722f4"
      },
      "execution_count": 7,
      "outputs": [
        {
          "output_type": "execute_result",
          "data": {
            "text/plain": [
              "(60000, 28, 28)"
            ]
          },
          "metadata": {},
          "execution_count": 7
        }
      ]
    },
    {
      "cell_type": "markdown",
      "source": [
        "Thus we see that training dataset has 60000 images (rows) each of size (28,28) or 28x28 i.e. 2-D images, and each pixel is a value from 0 to 255 describing the pixel intensity. 0 for white and 255 for black.\n",
        "\n",
        "Since a convolutional layer takes a 2-D image (2-D array) as input, we needn't convert these 2-D images to a 1-D arrays\n",
        "\n",
        "If we had to feed these 2-D images to a DNN (hidden layer), which expects a 1-D array as input, we would have to convert these 2-D iamges to 1-D arrays before feeding to hidden layer (DNN)"
      ],
      "metadata": {
        "id": "r4mTMPY_W4aL"
      }
    },
    {
      "cell_type": "code",
      "source": [
        "trainy.shape\n",
        "testx.shape\n",
        "testy.shape"
      ],
      "metadata": {
        "colab": {
          "base_uri": "https://localhost:8080/"
        },
        "id": "OS-tIkpQWtlg",
        "outputId": "119feb44-8dc3-4dd0-b40c-154b2c86d4da"
      },
      "execution_count": 8,
      "outputs": [
        {
          "output_type": "execute_result",
          "data": {
            "text/plain": [
              "(10000,)"
            ]
          },
          "metadata": {},
          "execution_count": 8
        }
      ]
    },
    {
      "cell_type": "code",
      "source": [
        "plt.figure()\n",
        "plt.imshow(np.squeeze(trainx[279]))"
      ],
      "metadata": {
        "colab": {
          "base_uri": "https://localhost:8080/",
          "height": 282
        },
        "id": "ewbME47eWtn0",
        "outputId": "81864110-c85a-4798-bc3b-b0a0f2906f5b"
      },
      "execution_count": 9,
      "outputs": [
        {
          "output_type": "execute_result",
          "data": {
            "text/plain": [
              "<matplotlib.image.AxesImage at 0x7faffe097490>"
            ]
          },
          "metadata": {},
          "execution_count": 9
        },
        {
          "output_type": "display_data",
          "data": {
            "text/plain": [
              "<Figure size 432x288 with 1 Axes>"
            ],
            "image/png": "[encoded data removed]"
          },
          "metadata": {
            "needs_background": "light"
          }
        }
      ]
    },
    {
      "cell_type": "code",
      "source": [
        "obj = trainy[279]\n",
        "print(class_names[obj])"
      ],
      "metadata": {
        "colab": {
          "base_uri": "https://localhost:8080/"
        },
        "id": "VogbElygWtpr",
        "outputId": "d812b39b-b561-4a83-a328-3f9218270a59"
      },
      "execution_count": 10,
      "outputs": [
        {
          "output_type": "stream",
          "name": "stdout",
          "text": [
            "Sneaker\n"
          ]
        }
      ]
    },
    {
      "cell_type": "code",
      "source": [
        "plt.figure(figsize=(10,10))\n",
        "for i in range(15):\n",
        "    plt.subplot(5,5,i+1)\n",
        "    plt.xticks([])\n",
        "    plt.yticks([])\n",
        "    plt.imshow(trainx[i], cmap=plt.cm.binary) \n",
        "    plt.xlabel(class_names[trainy[i]])\n",
        "plt.show()"
      ],
      "metadata": {
        "id": "WHHQ-OnPWtrA",
        "colab": {
          "base_uri": "https://localhost:8080/",
          "height": 364
        },
        "outputId": "4570b6d7-6d8c-46d6-b1e2-4fedd80d989f"
      },
      "execution_count": 11,
      "outputs": [
        {
          "output_type": "display_data",
          "data": {
            "text/plain": [
              "<Figure size 720x720 with 15 Axes>"
            ],
            "image/png": "[encoded data removed]"
          },
          "metadata": {}
        }
      ]
    },
    {
      "cell_type": "markdown",
      "source": [
        "## MinMax Scaling"
      ],
      "metadata": {
        "id": "CuxShrKcV-Sz"
      }
    },
    {
      "cell_type": "code",
      "source": [
        "trainx = trainx.reshape((60000, 28, 28, 1))\n",
        "testx = testx.reshape((10000, 28, 28, 1))"
      ],
      "metadata": {
        "id": "kcNBu-pPWtuT"
      },
      "execution_count": 12,
      "outputs": []
    },
    {
      "cell_type": "code",
      "source": [
        "trainx[0].min()"
      ],
      "metadata": {
        "colab": {
          "base_uri": "https://localhost:8080/"
        },
        "id": "uwo1QkveWqji",
        "outputId": "750d6198-be2f-43ca-f957-d24ae6678873"
      },
      "execution_count": 13,
      "outputs": [
        {
          "output_type": "execute_result",
          "data": {
            "text/plain": [
              "0"
            ]
          },
          "metadata": {},
          "execution_count": 13
        }
      ]
    },
    {
      "cell_type": "code",
      "source": [
        "trainx[0].max()"
      ],
      "metadata": {
        "colab": {
          "base_uri": "https://localhost:8080/"
        },
        "id": "R1DigcUsWziD",
        "outputId": "a8a0f0fd-7e20-4479-9e6b-0200a5297c66"
      },
      "execution_count": 14,
      "outputs": [
        {
          "output_type": "execute_result",
          "data": {
            "text/plain": [
              "255"
            ]
          },
          "metadata": {},
          "execution_count": 14
        }
      ]
    },
    {
      "cell_type": "markdown",
      "source": [
        "- The pixel values of these images range between 0-255. We try to instead normalize this range from 0-1 \n",
        "\n",
        "- MinMax scaling is based on the normalization procedure of : **new_data = (data-min)/(max-min)**\n",
        "\n",
        "- Since pixels range from min of 0 to max of 255 the scaled image size will result as => **(data-0)/(255-0) = data/255**\n",
        "\n"
      ],
      "metadata": {
        "id": "4RT1IYqLXPjs"
      }
    },
    {
      "cell_type": "code",
      "source": [
        "trainx_norm = trainx / 255.0\n",
        "testx_norm = testx / 255.0"
      ],
      "metadata": {
        "id": "TQYAlY4_WtwM"
      },
      "execution_count": 15,
      "outputs": []
    },
    {
      "cell_type": "markdown",
      "source": [
        "## Designing a CNN for classification"
      ],
      "metadata": {
        "id": "gvin9uZ7XWmG"
      }
    },
    {
      "cell_type": "code",
      "source": [
        "conv1 = layers.Conv2D(32, (3,3), activation='relu', input_shape=(28,28,1) )\n",
        "conv2 = layers.Conv2D(64, (3,3), activation='relu')\n",
        "conv3 = layers.Conv2D(128, (3,3), activation='relu')\n",
        "\n",
        "max_pool1 = layers.MaxPooling2D((2,2))\n",
        "max_pool2 = layers.MaxPooling2D((2,2))\n",
        "max_pool3 = layers.MaxPooling2D((2,2))\n",
        "\n",
        "flat_layer = layers.Flatten()\n",
        "fc = layers.Dense(128, activation='relu', kernel_regularizer = keras.regularizers.l2(0.001))\n",
        "\n",
        "output = layers.Dense(10, 'softmax', kernel_regularizer = keras.regularizers.l2(0.001))\n",
        "\n",
        "drop1 = keras.layers.Dropout(0.4)\n",
        "drop2 = keras.layers.Dropout(0.6)"
      ],
      "metadata": {
        "id": "URq5Jof8Xmyo"
      },
      "execution_count": 16,
      "outputs": []
    },
    {
      "cell_type": "code",
      "source": [
        "model = models.Sequential()\n",
        "\n",
        "model.add(conv1)\n",
        "model.add(conv2)\n",
        "model.add(max_pool2)\n",
        "model.add(drop1)\n",
        "model.add(conv3)\n",
        "model.add(max_pool3)\n",
        "model.add(drop2)\n",
        "model.add(flat_layer)\n",
        "model.add(fc)\n",
        "model.add(output)\n",
        "\n",
        "model.summary()"
      ],
      "metadata": {
        "id": "oAPx6LGEXm0N",
        "colab": {
          "base_uri": "https://localhost:8080/"
        },
        "outputId": "0aed17de-8517-4262-90f2-09921ed8d35d"
      },
      "execution_count": 17,
      "outputs": [
        {
          "output_type": "stream",
          "name": "stdout",
          "text": [
            "Model: \"sequential\"\n",
            "_________________________________________________________________\n",
            " Layer (type)                Output Shape              Param #   \n",
            "=================================================================\n",
            " conv2d (Conv2D)             (None, 26, 26, 32)        320       \n",
            "                                                                 \n",
            " conv2d_1 (Conv2D)           (None, 24, 24, 64)        18496     \n",
            "                                                                 \n",
            " max_pooling2d_1 (MaxPooling  (None, 12, 12, 64)       0         \n",
            " 2D)                                                             \n",
            "                                                                 \n",
            " dropout (Dropout)           (None, 12, 12, 64)        0         \n",
            "                                                                 \n",
            " conv2d_2 (Conv2D)           (None, 10, 10, 128)       73856     \n",
            "                                                                 \n",
            " max_pooling2d_2 (MaxPooling  (None, 5, 5, 128)        0         \n",
            " 2D)                                                             \n",
            "                                                                 \n",
            " dropout_1 (Dropout)         (None, 5, 5, 128)         0         \n",
            "                                                                 \n",
            " flatten (Flatten)           (None, 3200)              0         \n",
            "                                                                 \n",
            " dense (Dense)               (None, 128)               409728    \n",
            "                                                                 \n",
            " dense_1 (Dense)             (None, 10)                1290      \n",
            "                                                                 \n",
            "=================================================================\n",
            "Total params: 503,690\n",
            "Trainable params: 503,690\n",
            "Non-trainable params: 0\n",
            "_________________________________________________________________\n"
          ]
        }
      ]
    },
    {
      "cell_type": "code",
      "source": [
        "model.compile(optimizer='adam',\n",
        "              loss='sparse_categorical_crossentropy',\n",
        "              metrics=['accuracy']\n",
        "          )"
      ],
      "metadata": {
        "id": "lCztdnCEYHa-"
      },
      "execution_count": 18,
      "outputs": []
    },
    {
      "cell_type": "code",
      "source": [
        "history = model.fit(trainx_norm, \n",
        "                    trainy, \n",
        "                    epochs=20, \n",
        "                    validation_data = (testx_norm, testy),\n",
        "                    shuffle=True, \n",
        "                    batch_size=512,\n",
        "                    validation_split=0.2)"
      ],
      "metadata": {
        "id": "I2yCYS2AYKn_",
        "colab": {
          "base_uri": "https://localhost:8080/"
        },
        "outputId": "cfc54128-a4b7-44c3-f6d1-ff8667b6da32"
      },
      "execution_count": 19,
      "outputs": [
        {
          "output_type": "stream",
          "name": "stdout",
          "text": [
            "Epoch 1/20\n",
            "94/94 [==============================] - 17s 37ms/step - loss: 1.0655 - accuracy: 0.6918 - val_loss: 0.7021 - val_accuracy: 0.8221\n",
            "Epoch 2/20\n",
            "94/94 [==============================] - 3s 30ms/step - loss: 0.6766 - accuracy: 0.8202 - val_loss: 0.5807 - val_accuracy: 0.8537\n",
            "Epoch 3/20\n",
            "94/94 [==============================] - 3s 30ms/step - loss: 0.5786 - accuracy: 0.8477 - val_loss: 0.4995 - val_accuracy: 0.8710\n",
            "Epoch 4/20\n",
            "94/94 [==============================] - 3s 31ms/step - loss: 0.5113 - accuracy: 0.8635 - val_loss: 0.4504 - val_accuracy: 0.8855\n",
            "Epoch 5/20\n",
            "94/94 [==============================] - 3s 30ms/step - loss: 0.4657 - accuracy: 0.8730 - val_loss: 0.4092 - val_accuracy: 0.8933\n",
            "Epoch 6/20\n",
            "94/94 [==============================] - 3s 31ms/step - loss: 0.4337 - accuracy: 0.8775 - val_loss: 0.4066 - val_accuracy: 0.8840\n",
            "Epoch 7/20\n",
            "94/94 [==============================] - 3s 31ms/step - loss: 0.4075 - accuracy: 0.8851 - val_loss: 0.3789 - val_accuracy: 0.8946\n",
            "Epoch 8/20\n",
            "94/94 [==============================] - 3s 31ms/step - loss: 0.3853 - accuracy: 0.8897 - val_loss: 0.3508 - val_accuracy: 0.8995\n",
            "Epoch 9/20\n",
            "94/94 [==============================] - 3s 30ms/step - loss: 0.3746 - accuracy: 0.8919 - val_loss: 0.3452 - val_accuracy: 0.9058\n",
            "Epoch 10/20\n",
            "94/94 [==============================] - 3s 30ms/step - loss: 0.3613 - accuracy: 0.8949 - val_loss: 0.3357 - val_accuracy: 0.9082\n",
            "Epoch 11/20\n",
            "94/94 [==============================] - 3s 31ms/step - loss: 0.3510 - accuracy: 0.8976 - val_loss: 0.3374 - val_accuracy: 0.9030\n",
            "Epoch 12/20\n",
            "94/94 [==============================] - 3s 31ms/step - loss: 0.3457 - accuracy: 0.8986 - val_loss: 0.3349 - val_accuracy: 0.9053\n",
            "Epoch 13/20\n",
            "94/94 [==============================] - 3s 31ms/step - loss: 0.3358 - accuracy: 0.9041 - val_loss: 0.3118 - val_accuracy: 0.9153\n",
            "Epoch 14/20\n",
            "94/94 [==============================] - 3s 30ms/step - loss: 0.3277 - accuracy: 0.9068 - val_loss: 0.3062 - val_accuracy: 0.9155\n",
            "Epoch 15/20\n",
            "94/94 [==============================] - 3s 31ms/step - loss: 0.3222 - accuracy: 0.9088 - val_loss: 0.3038 - val_accuracy: 0.9187\n",
            "Epoch 16/20\n",
            "94/94 [==============================] - 3s 31ms/step - loss: 0.3218 - accuracy: 0.9094 - val_loss: 0.3073 - val_accuracy: 0.9128\n",
            "Epoch 17/20\n",
            "94/94 [==============================] - 3s 31ms/step - loss: 0.3234 - accuracy: 0.9066 - val_loss: 0.3009 - val_accuracy: 0.9188\n",
            "Epoch 18/20\n",
            "94/94 [==============================] - 3s 31ms/step - loss: 0.3167 - accuracy: 0.9103 - val_loss: 0.2928 - val_accuracy: 0.9213\n",
            "Epoch 19/20\n",
            "94/94 [==============================] - 3s 31ms/step - loss: 0.3110 - accuracy: 0.9122 - val_loss: 0.2970 - val_accuracy: 0.9162\n",
            "Epoch 20/20\n",
            "94/94 [==============================] - 3s 31ms/step - loss: 0.3103 - accuracy: 0.9116 - val_loss: 0.2912 - val_accuracy: 0.9218\n"
          ]
        }
      ]
    },
    {
      "cell_type": "code",
      "source": [
        "test_loss, test_accuracy = model.evaluate(testx_norm, testy)\n",
        "print(test_accuracy)\n",
        "print(test_loss)"
      ],
      "metadata": {
        "id": "Wi5al-vWYKqK",
        "colab": {
          "base_uri": "https://localhost:8080/"
        },
        "outputId": "d8a7ab6a-9442-4dc7-92ff-a4e7bf4d4bca"
      },
      "execution_count": 20,
      "outputs": [
        {
          "output_type": "stream",
          "name": "stdout",
          "text": [
            "313/313 [==============================] - 1s 3ms/step - loss: 0.3004 - accuracy: 0.9164\n",
            "0.9164000153541565\n",
            "0.3003503382205963\n"
          ]
        }
      ]
    },
    {
      "cell_type": "markdown",
      "source": [
        "## Model evaluation"
      ],
      "metadata": {
        "id": "0pO_X8fcXe_z"
      }
    },
    {
      "cell_type": "code",
      "source": [
        "history.history.keys()"
      ],
      "metadata": {
        "id": "d24EVjCdYKrn",
        "colab": {
          "base_uri": "https://localhost:8080/"
        },
        "outputId": "59e501ac-cd00-4ed3-d3a2-4973bf79f355"
      },
      "execution_count": 21,
      "outputs": [
        {
          "output_type": "execute_result",
          "data": {
            "text/plain": [
              "dict_keys(['loss', 'accuracy', 'val_loss', 'val_accuracy'])"
            ]
          },
          "metadata": {},
          "execution_count": 21
        }
      ]
    },
    {
      "cell_type": "code",
      "source": [
        "# Train vs test accuracy plot\n",
        "\n",
        "plt.plot(history.history['accuracy'])\n",
        "plt.plot(history.history['val_accuracy'])\n",
        "plt.title('Model Accuracy')\n",
        "plt.ylabel('accuracy')\n",
        "plt.xlabel('Epochs')\n",
        "plt.legend(['Train', 'Test'], loc='lower right')"
      ],
      "metadata": {
        "id": "dAxP5J8fYKtL",
        "colab": {
          "base_uri": "https://localhost:8080/",
          "height": 312
        },
        "outputId": "0043beb6-387d-4b24-f455-e26e788d6cf9"
      },
      "execution_count": 22,
      "outputs": [
        {
          "output_type": "execute_result",
          "data": {
            "text/plain": [
              "<matplotlib.legend.Legend at 0x7faf802d4290>"
            ]
          },
          "metadata": {},
          "execution_count": 22
        },
        {
          "output_type": "display_data",
          "data": {
            "text/plain": [
              "<Figure size 432x288 with 1 Axes>"
            ],
            "image/png": "[encoded data removed]"
          },
          "metadata": {
            "needs_background": "light"
          }
        }
      ]
    },
    {
      "cell_type": "code",
      "source": [
        "# Train vs test loss plot\n",
        "\n",
        "plt.plot(history.history['loss'])\n",
        "plt.plot(history.history['val_loss'])\n",
        "plt.title('Model Loss')\n",
        "plt.ylabel('loss')\n",
        "plt.xlabel('epoch')\n",
        "plt.legend(['train', 'test'], loc='upper right')\n",
        "plt.show()"
      ],
      "metadata": {
        "id": "V84dRMfaYXG-",
        "colab": {
          "base_uri": "https://localhost:8080/",
          "height": 295
        },
        "outputId": "dca275c5-08d1-4187-d827-2e90f94a292a"
      },
      "execution_count": 23,
      "outputs": [
        {
          "output_type": "display_data",
          "data": {
            "text/plain": [
              "<Figure size 432x288 with 1 Axes>"
            ],
            "image/png": "[encoded data removed]"
          },
          "metadata": {
            "needs_background": "light"
          }
        }
      ]
    },
    {
      "cell_type": "markdown",
      "source": [
        "The graphs abve depict that the model is free from any over/underfitting issues"
      ],
      "metadata": {
        "id": "bkRkpDsPXnj-"
      }
    },
    {
      "cell_type": "markdown",
      "source": [
        "## Model testing"
      ],
      "metadata": {
        "id": "4VTB7_oUXy1E"
      }
    },
    {
      "cell_type": "code",
      "source": [
        "pred_testy = model.predict(testx_norm)\n",
        "pred_testy.shape"
      ],
      "metadata": {
        "id": "ul6C4rTQYXJU",
        "colab": {
          "base_uri": "https://localhost:8080/"
        },
        "outputId": "a33f1164-4d9c-4457-d367-71d8cdb117cc"
      },
      "execution_count": 24,
      "outputs": [
        {
          "output_type": "execute_result",
          "data": {
            "text/plain": [
              "(10000, 10)"
            ]
          },
          "metadata": {},
          "execution_count": 24
        }
      ]
    },
    {
      "cell_type": "code",
      "source": [
        "pred_testy[92]"
      ],
      "metadata": {
        "id": "E-IGhb1-Ye_P",
        "colab": {
          "base_uri": "https://localhost:8080/"
        },
        "outputId": "b2e3994d-f201-41c7-d9af-46b814400946"
      },
      "execution_count": 25,
      "outputs": [
        {
          "output_type": "execute_result",
          "data": {
            "text/plain": [
              "array([3.5590868e-04, 8.4321096e-07, 4.8958454e-03, 6.9927723e-05,\n",
              "       1.1601044e-02, 8.3880934e-07, 9.8306006e-01, 8.3809527e-07,\n",
              "       1.2767483e-05, 1.8713234e-06], dtype=float32)"
            ]
          },
          "metadata": {},
          "execution_count": 25
        }
      ]
    },
    {
      "cell_type": "markdown",
      "source": [
        "The above values represent probabilities of the object in pred_testy[92] being any of the 10 classes of fashion_mnist. The index with maximum probability among all gives us the respective class of the object"
      ],
      "metadata": {
        "id": "WAlPCbnJSNoN"
      }
    },
    {
      "cell_type": "code",
      "source": [
        "pred_testy_index = np.argmax(pred_testy[92])\n",
        "pred_testy_index"
      ],
      "metadata": {
        "id": "MOIsvQTNYfBO",
        "colab": {
          "base_uri": "https://localhost:8080/"
        },
        "outputId": "2eaf5032-aaa8-430f-8fdf-2caf4f3ead8b"
      },
      "execution_count": 26,
      "outputs": [
        {
          "output_type": "execute_result",
          "data": {
            "text/plain": [
              "6"
            ]
          },
          "metadata": {},
          "execution_count": 26
        }
      ]
    },
    {
      "cell_type": "code",
      "source": [
        "# testing a random pic from the dataset\n",
        "\n",
        "plt.figure()\n",
        "plt.imshow(np.squeeze(testx[92]))"
      ],
      "metadata": {
        "id": "mBbT2i3mYnYK",
        "colab": {
          "base_uri": "https://localhost:8080/",
          "height": 282
        },
        "outputId": "ac2a0c40-f4e5-44e6-ddb7-d4072059f559"
      },
      "execution_count": 27,
      "outputs": [
        {
          "output_type": "execute_result",
          "data": {
            "text/plain": [
              "<matplotlib.image.AxesImage at 0x7faf801a6b10>"
            ]
          },
          "metadata": {},
          "execution_count": 27
        },
        {
          "output_type": "display_data",
          "data": {
            "text/plain": [
              "<Figure size 432x288 with 1 Axes>"
            ],
            "image/png": "[encoded data removed]"
          },
          "metadata": {
            "needs_background": "light"
          }
        }
      ]
    },
    {
      "cell_type": "code",
      "source": [
        "obj = testy[92]\n",
        "print(class_names[obj])"
      ],
      "metadata": {
        "id": "qLPF7M29YfCx",
        "colab": {
          "base_uri": "https://localhost:8080/"
        },
        "outputId": "21b9069c-4706-4764-f138-67b29e3909e7"
      },
      "execution_count": 28,
      "outputs": [
        {
          "output_type": "stream",
          "name": "stdout",
          "text": [
            "Shirt\n"
          ]
        }
      ]
    }
  ]
}